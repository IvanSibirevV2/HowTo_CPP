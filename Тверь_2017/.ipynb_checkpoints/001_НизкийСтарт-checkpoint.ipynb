{
 "cells": [
  {
   "cell_type": "code",
   "execution_count": 39,
   "id": "511088d1",
   "metadata": {},
   "outputs": [
    {
     "name": "stderr",
     "output_type": "stream",
     "text": [
      "warning: in the working copy of 'РўРІРµСЂСЊ_2017/.ipynb_checkpoints/001_РќРёР·РєРёР№РЎС‚Р°СЂС‚-checkpoint.ipynb', LF will be replaced by CRLF the next time Git touches it\n",
      "warning: in the working copy of 'РўРІРµСЂСЊ_2017/001_РќРёР·РєРёР№РЎС‚Р°СЂС‚.html', LF will be replaced by CRLF the next time Git touches it\n",
      "warning: in the working copy of 'РўРІРµСЂСЊ_2017/001_РќРёР·РєРёР№РЎС‚Р°СЂС‚.ipynb', LF will be replaced by CRLF the next time Git touches it\n"
     ]
    },
    {
     "name": "stdout",
     "output_type": "stream",
     "text": [
      "On branch main\n",
      "Your branch is up to date with 'origin/main'.\n",
      "\n",
      "Changes to be committed:\n",
      "  (use \"git restore --staged <file>...\" to unstage)\n",
      "\tmodified:   \".ipynb_checkpoints/001_\\320\\235\\320\\270\\320\\267\\320\\272\\320\\270\\320\\271\\320\\241\\321\\202\\320\\260\\321\\200\\321\\202-checkpoint.ipynb\"\n",
      "\tmodified:   \"001_\\320\\235\\320\\270\\320\\267\\320\\272\\320\\270\\320\\271\\320\\241\\321\\202\\320\\260\\321\\200\\321\\202.html\"\n",
      "\tmodified:   \"001_\\320\\235\\320\\270\\320\\267\\320\\272\\320\\270\\320\\271\\320\\241\\321\\202\\320\\260\\321\\200\\321\\202.ipynb\"\n",
      "\tmodified:   inPut.txt\n",
      "\n",
      "0!!!\n",
      "[main 4b3ce9d] AutoCommit_$((Get-Date).DateTime)_$($Env:UserName)\n",
      " 4 files changed, 250 insertions(+), 73 deletions(-)\n",
      "1!!!\n",
      "commit 4b3ce9ddc03fb7202f742e57f124852489e449a7\n",
      "Author: Р№С†Сѓ <Р№С†Сѓ>\n",
      "Date:   Thu Nov 2 14:34:32 2023 +0300\n",
      "\n",
      "    AutoCommit_$((Get-Date).DateTime)_$($Env:UserName)\n",
      "\n",
      "commit a7bf191c991206d0b4d4b3c8165895de3bf845b3\n",
      "Author: Р№С†Сѓ <Р№С†Сѓ>\n",
      "Date:   Thu Nov 2 14:32:27 2023 +0300\n",
      "\n",
      "    AutoCommit_$((Get-Date).DateTime)_$($Env:UserName)\n",
      "\n",
      "commit 1431038b613155c91ef2272bcf46a2d09cc1da8c\n",
      "Author: Р№С†Сѓ <Р№С†Сѓ>\n",
      "Date:   Thu Nov 2 13:01:46 2023 +0300\n",
      "\n",
      "    AutoCommit_$((Get-Date).DateTime)_$($Env:UserName)\n"
     ]
    },
    {
     "name": "stderr",
     "output_type": "stream",
     "text": [
      "To https://github.com/IvanSibirevV2/HowTo_CPP.git\n",
      "   a7bf191..4b3ce9d  main -> main\n"
     ]
    }
   ],
   "source": [
    "# cmd index+commit+push+to github\n",
    "!git add .\n",
    "!git status\n",
    "!echo 0!!!\n",
    "!git commit -m AutoCommit_$((Get-Date).DateTime)_$($Env:UserName)\n",
    "!echo 1!!!\n",
    "!git log -3\n",
    "!git push"
   ]
  },
  {
   "cell_type": "markdown",
   "id": "282a740c",
   "metadata": {},
   "source": [
    "# Низкий старт"
   ]
  },
  {
   "cell_type": "markdown",
   "id": "a0d72731",
   "metadata": {},
   "source": [
    "<a style=\"display:inline-block;\" href=\"https://htmlpreview.github.io/?https://github.com/IvanSibirevV2/HowTo_CPP/blob/main/Тверь_2017/001_НизкийСтарт.html#/source\" target=\"_blank\">\n",
    "    <img src=\"https://digitalprofy.ru/wp-content/uploads/2023/03/html-scaled.jpeg\" width=\"100\" height=\"100\"/></a>\n",
    "<a style=\"display:inline-block;\" href=\"https://github.com/IvanSibirevV2/HowTo_CPP\" target=\"_blank\">\n",
    "    <img src=\"https://avatars.dzeninfra.ru/get-zen_doc/3342202/pub_617c549bf7b11960ad42e0af_617c54e3b021ae7a4e527861/scale_1200\" width=\"100\" height=\"100\"/></a>"
   ]
  },
  {
   "cell_type": "markdown",
   "id": "fea99f6f",
   "metadata": {},
   "source": [
    "-------------\n",
    "# Config\n"
   ]
  },
  {
   "cell_type": "code",
   "execution_count": 2,
   "id": "58181aae",
   "metadata": {},
   "outputs": [],
   "source": [
    "from IPython.core.magic import (register_line_magic,register_cell_magic)\n",
    "def Debag_Lang_Cpp(code):\n",
    "    with open('main.c', mode='w') as file:file.write(code)\n",
    "    !\"C:\\Program Files (x86)\\C-Free 5\\mingw\\bin\\\\c++.exe\" main.c -o Start.exe\n",
    "    !Start.exe<inPut.txt\n",
    "@register_line_magic\n",
    "def Cpp_line(line):\n",
    "    Debag_Lang_Cpp(line)\n",
    "@register_cell_magic\n",
    "def Cpp(line,cell):\n",
    "    Debag_Lang_Cpp(cell)\n",
    "@register_cell_magic\n",
    "def Input(line,cell):\n",
    "    with open('inPut.txt', mode='w') as file:file.write(cell)\n",
    "Input(None,\" \\n\")"
   ]
  },
  {
   "cell_type": "markdown",
   "id": "d6d4619b",
   "metadata": {},
   "source": [
    "--------------------"
   ]
  },
  {
   "cell_type": "markdown",
   "id": "d7fc9083",
   "metadata": {},
   "source": [
    "\n",
    "# И Так\n",
    "В дальнейшем будем хранить программные коды в виде таких лекций."
   ]
  },
  {
   "cell_type": "code",
   "execution_count": 7,
   "id": "196cbf37",
   "metadata": {},
   "outputs": [
    {
     "name": "stdout",
     "output_type": "stream",
     "text": [
      "Hello C-Free!\n",
      "a = 2\n"
     ]
    }
   ],
   "source": [
    "%%Cpp\n",
    "#include <stdio.h>\n",
    "int main(int argc, char *argv[])\n",
    "{\n",
    "\tprintf(\"Hello C-Free!\\n\");//\\n - спец символ перехода на новую строку\n",
    "\tint a = 2;\n",
    "\tprintf(\"a = %d\\n\", a);\n",
    "\treturn 0;\n",
    "}"
   ]
  },
  {
   "cell_type": "markdown",
   "id": "85ba9ecd",
   "metadata": {},
   "source": [
    "# Отладка\n",
    "По идее среда разработки подсвечивает строки с семантическими и синтаксическими ошибками.\n",
    "Хотелось бы когда-нибуть насладиться упакетом под Jupiter с++ под Windows. Но пока что мы пользуемся подручными средствами. В IDE  обычно есть ещё и пошаговое исполнение, исполнение до точки остановки и окно локальных переменных. Нас интерисует только способ, работающий даже в блокноте. А именно, добавляем в однострочные или многострочные комментарии вообще все. Многократно раскомментируем по одной строке, и запускаем пока не найдем ошибку. Работающий программный код упаковываем в функцию с названием например Step1, оставляем все это со спокойной душой и совестью за спиной и отлаживаем код дальше. По окончании даем приличное название функции обертке..."
   ]
  },
  {
   "cell_type": "code",
   "execution_count": 8,
   "id": "2d351751",
   "metadata": {},
   "outputs": [
    {
     "name": "stdout",
     "output_type": "stream",
     "text": [
      "HelloWorld\n",
      "Русский текст\n"
     ]
    }
   ],
   "source": [
    "%%Cpp\n",
    "#include <stdio.h>\n",
    "#include <locale.h>\n",
    "int main(int argc, char *argv[])\n",
    "{\n",
    "\tsetlocale(LC_ALL, \"Russian\");\n",
    "\tprintf(\"HelloWorld\\n\");\t\n",
    " \tprintf(\"Русский текст\\n\");\n",
    "\treturn 0;\n",
    "}"
   ]
  },
  {
   "cell_type": "code",
   "execution_count": 48,
   "id": "9a5acebf",
   "metadata": {},
   "outputs": [],
   "source": [
    "%%Input\n",
    "18"
   ]
  },
  {
   "cell_type": "code",
   "execution_count": 49,
   "id": "88981631",
   "metadata": {},
   "outputs": [
    {
     "name": "stdout",
     "output_type": "stream",
     "text": [
      "Сколько Вам Лет\n",
      "Ваш возраст: 18. Но я старше! Мой возраст - 20!!!\n"
     ]
    }
   ],
   "source": [
    "%%Cpp\n",
    "#include <stdio.h>\n",
    "#include <locale.h>\n",
    "int main(int argc, char *argv[])\n",
    "{\n",
    "\tsetlocale(LC_ALL, \"Russian\");\n",
    "\tint age, my_age;\n",
    "\tprintf(\"Сколько Вам Лет\\n\");\n",
    "\tscanf(\"%d\\n\", &age);\n",
    "\tmy_age = age + 2;\n",
    "\tprintf(\"Ваш возраст: %d. Но я старше! Мой возраст - %d!!!\\n\", age, my_age);\n",
    "\treturn 0;\n",
    "}\n",
    "//Чтение с консоли"
   ]
  },
  {
   "cell_type": "markdown",
   "id": "20958c04",
   "metadata": {},
   "source": [
    "Функция scanf_s не является обязательной частью стандарта языка Си и на настоящий момент полностью поддерживается лишь в Microsoft Visual Studio. По мнению Microsoft, scanf_s является безопасной версией функции scanf (отсюда суффикс _s – secure).\n",
    "В других средах разработки (не от Microsoft) вы вынуждены использовать scanf вместо scanf_s, из-за того, что последняя в них не поддерживается."
   ]
  },
  {
   "cell_type": "markdown",
   "id": "db19d5a5",
   "metadata": {},
   "source": [
    "<pre>Таблица 8.2. Спецификаторы преобразования для функции printf()\n",
    "Код\tФормат\n",
    "%a\tШестнадцатеричное в виде 0xh.hhhhp+d (только С99)\n",
    "%A\tШестнадцатеричное в виде 0Xh.hhhhP+d (только С99)\n",
    "%c\tСимвол\n",
    "%d\tДесятичное целое со знаком\n",
    "%i\tДесятичное целое со знаком\n",
    "%e\tЭкспоненциальное представление ('е' на нижнем регистре)\n",
    "%E\tЭкспоненциальное представление ('Е' на верхнем регистре)\n",
    "%f\tДесятичное с плавающей точкой\n",
    "%g\tВ зависимости от того, какой вывод будет короче, используется %е или %f\n",
    "%G\tВ зависимости от того, какой вывод будет короче, используется %Е или %F\n",
    "%o\tВосьмеричное без знака\n",
    "%s\tСтрока символов\n",
    "%u\tДесятичное целое без знака\n",
    "%x\tШестнадцатеричное без знака (буквы на нижнем регистре)\n",
    "%X\tШестнадцатеричное без знака (буквы на верхнем регистре)\n",
    "%p\tВыводит указатель\n",
    "%n\tАргумент, соответствующий этому спецификатору, должен быть указателем на целочисленную переменную. Спецификатор позволяет сохранить в этой переменной количество записанных символов (записанных до того места, в котором находится код %n)\n",
    "%%\tВыводит знак %\n",
    "...</pre>\n",
    "https://codelessons.dev/ru/printf-in-c-cplusplus/"
   ]
  },
  {
   "cell_type": "code",
   "execution_count": 50,
   "id": "18ebe67a",
   "metadata": {},
   "outputs": [
    {
     "name": "stdout",
     "output_type": "stream",
     "text": [
      "value= 10 \n",
      "value= 8 ; 10 \n",
      "value= 16 ; 10 \n"
     ]
    }
   ],
   "source": [
    "%%Cpp\n",
    "#include <stdio.h>\n",
    "#include <locale.h>\n",
    "int main(int argc, char *argv[])\n",
    "{\n",
    "\tsetlocale(LC_ALL, \"Russian\");\n",
    "\tint value;\n",
    "\tvalue=10;//Задать десятичное число\n",
    "\tprintf(\"value= %d \\n\", value);\n",
    "\tvalue=0010;//Задать восьмеричное число\n",
    "\tprintf(\"value= %d ; %o \\n\", value, value);\n",
    "\tvalue=0x10;//Задать шестнадцатеричное число\n",
    "\tprintf(\"value= %d ; %x \\n\", value, value);\n",
    "\treturn 0;\n",
    "}"
   ]
  },
  {
   "cell_type": "markdown",
   "id": "f5f42e30",
   "metadata": {},
   "source": [
    "– char – символ,\n",
    "\n",
    "– int – целое число,\n",
    "\n",
    "– float – дробное число одинарной точности,\n",
    "\n",
    "– double – дробное число двойной точности."
   ]
  },
  {
   "cell_type": "code",
   "execution_count": 51,
   "id": "8631ca7a",
   "metadata": {},
   "outputs": [
    {
     "name": "stdout",
     "output_type": "stream",
     "text": [
      "1. просто строка \n",
      "2. целое число: 1234 \n",
      "3. дробное число: 12.340000 \n",
      "4. Символ: C  \n",
      "5. строка: C++ \n",
      "6. процент: 100% \n"
     ]
    }
   ],
   "source": [
    "%%Cpp\n",
    "#include <stdio.h>\n",
    "#include <locale.h>\n",
    "int main(int argc, char *argv[])\n",
    "{\n",
    "\tprintf(\"1. просто строка \\n\");\n",
    "\tint _value_int=1234;\n",
    "\tprintf(\"2. целое число: %d \\n\", _value_int);\n",
    "\tfloat _value_float=12.34;//double - ?\n",
    "\tprintf(\"3. дробное число: %f \\n\", _value_float);\n",
    "\tchar _value_char='C';\n",
    "\tprintf(\"4. Символ: %c  \\n\", _value_char);\n",
    "\tchar _value_char_array[]=\"C++\";\n",
    "\tprintf(\"5. строка: %s \\n\", _value_char_array);\n",
    "\tprintf(\"6. процент: 100%% \\n\");\n",
    "\treturn 0;\n",
    "}"
   ]
  },
  {
   "cell_type": "code",
   "execution_count": 52,
   "id": "20d6d31b",
   "metadata": {},
   "outputs": [],
   "source": [
    "%%Input\n",
    "3,4 4"
   ]
  },
  {
   "cell_type": "code",
   "execution_count": 53,
   "id": "644868c4",
   "metadata": {},
   "outputs": [
    {
     "name": "stdout",
     "output_type": "stream",
     "text": [
      "Введите значения r и h через пробел: 3,4 4\n",
      "Объем бассейна равен 145,194\n"
     ]
    }
   ],
   "source": [
    "%%Cpp\n",
    "#include <stdio.h>\n",
    "#include <locale.h>\n",
    "int main(){\n",
    "\tsetlocale(LC_ALL, \"Russian\");\n",
    "\tconst double pi = 3.14;\n",
    "\tdouble V, r, h;\n",
    "\tprintf(\"Введите значения r и h через пробел: \");\n",
    "\tscanf(\"%lg %lg\\n\", &r, &h);\n",
    "\tprintf(\"%lg %lg\\n\", r, h);\n",
    "    V = pi * r * r * h;\n",
    "\tprintf(\"Объем бассейна равен %lg\\n\", V);\n",
    "\treturn 0;\n",
    "}\n",
    "/*\n",
    "Введите значения r и h через пробел: 4 3\n",
    "Объем бассейна равен 150,72\n",
    "Для продолжения нажмите любую клавишу . . .\n",
    "*/"
   ]
  },
  {
   "cell_type": "markdown",
   "id": "10878a8e",
   "metadata": {},
   "source": [
    "# Упражнения\n",
    "Попробуйте решить самостоятельно следующие упражнения.\n",
    "\n",
    "1.1 Ввести с клавиатуры два числа, а затем вывести на экран\n",
    "результат вычисления суммы, разницы, умножения, деления\n",
    "и взятия остатка от деления первого на второе.\n",
    "\n",
    "1.2 Ввести три числа, а затем вывести их среднее арифметическое.\n",
    "\n",
    "1.3 Ввести с клавиатуры количество минут и напечатать количество\n",
    "целых часов и оставшихся минут. Например, 69 минут => 1 час и 9\n",
    "минут, 45 минут => 0 часов и 45 минут, 254 минуты => 4 часа и 14\n",
    "минут.\n",
    "\n",
    "стр 34\n",
    "\n",
    "Упражнения для самостоятельного решения\n",
    "\n",
    "1.4 Ввести с клавиатуры радиус, а затем напечатать диаметр круга,\n",
    "длину его окружности и площадь. Для π используйте значение\n",
    "3.14159. Выполните каждое вычисление внутри оператора printf\n",
    "и используйте спецификатор преобразования %f.\n",
    "\n",
    "1.5 Напечатайте узор шахматной доски при помощи символов\n",
    "пробела и *, используя восемь операторов printf. Затем нарисуйте ту\n",
    "же самую картинку, используя всего лишь один оператор printf.\n",
    "\n",
    "1.6 Ввести с клавиатуры одно пятизначное число, а затем вывести все\n",
    "пять цифр на печать, отделяя их пробелами. Например, если\n",
    "пользователь введет 31221, программа должна вывести 3 1 2 2 1.\n",
    "\n",
    "49 стр"
   ]
  },
  {
   "cell_type": "markdown",
   "id": "d6028229",
   "metadata": {},
   "source": [
    "# Высшая математика в Си"
   ]
  },
  {
   "cell_type": "code",
   "execution_count": 3,
   "id": "5bf3f604",
   "metadata": {},
   "outputs": [
    {
     "name": "stdout",
     "output_type": "stream",
     "text": [
      "7 + 2 = 9\n",
      "7 - 2 = 5\n",
      "7 * 2 = 14\n",
      "7 % 2 = 1\n",
      "7 / 2 = 3\n",
      "(float)7 / 2 = 3,500000\n"
     ]
    }
   ],
   "source": [
    "%%Cpp\n",
    "#include <stdio.h>\n",
    "#include <locale.h>\n",
    "int main(){\n",
    "\tsetlocale(LC_ALL, \"Russian\");\n",
    "\tint a=7, b=2, res = 0;\n",
    "\tfloat fres = 0;\n",
    "\tres = a+b; printf(\"%d + %d = %d\\n\",a,b,res);\n",
    "\tres = a-b; printf(\"%d - %d = %d\\n\",a,b,res);\n",
    "\tres = a*b; printf(\"%d * %d = %d\\n\",a,b,res);\n",
    "\tres = a%b; printf(\"%d %% %d = %d\\n\",a,b,res);\n",
    "\tres = a/b; printf(\"%d / %d = %d\\n\",a,b,res);\n",
    "\tfres = (float)a/b; printf(\"(float)%d / %d = %f\\n\",a,b,fres);\n",
    "\tres=getchar();\n",
    "\treturn 0;\n",
    "}"
   ]
  },
  {
   "cell_type": "code",
   "execution_count": 45,
   "id": "40fd1e08",
   "metadata": {},
   "outputs": [
    {
     "name": "stdout",
     "output_type": "stream",
     "text": [
      "a=7; b=4199400;\n",
      "g=9,810000; v=0,000000;\n",
      "После обертывания типа...\n",
      "a=7; b=9;\n",
      "g=9,810000; v=7,000000;\n"
     ]
    }
   ],
   "source": [
    "%%Cpp\n",
    "#include <stdio.h>\n",
    "#include <locale.h>\n",
    "int main(){\n",
    "\tsetlocale(LC_ALL, \"Russian\");\n",
    "\tint a=7, b;float g= 9.81,v;\n",
    "\tprintf(\"a=%d; b=%d;\\n\",a,b);printf(\"g=%f; v=%f;\\n\",g,v);\n",
    "\tb = (int)g; //приводим значение 9.81 к типу int, получим 9\n",
    "\tv= (float)a; // приводим значение 7 к типу float, получим 7.0\n",
    "\tprintf(\"После обертывания типа...\\n\");\n",
    "\tprintf(\"a=%d; b=%d;\\n\",a,b);printf(\"g=%f; v=%f;\\n\",g,v);\n",
    "\tint res = 0;res=getchar();\n",
    "\treturn 0;\n",
    "}"
   ]
  },
  {
   "cell_type": "markdown",
   "id": "cf8881ed",
   "metadata": {},
   "source": [
    "# Тригонометрия"
   ]
  },
  {
   "cell_type": "code",
   "execution_count": 44,
   "id": "72902ce5",
   "metadata": {},
   "outputs": [
    {
     "name": "stdout",
     "output_type": "stream",
     "text": [
      "fabs(-1,4)=1,4;\n",
      "sqrt(4)=2;\n",
      "M_PI=3,14159;\n",
      "sin(3,14159)=-8,74228e-008; (В радианах)\n",
      "cos(3,14159)=-1; (В радианах)\n",
      "pow(4, 2)=16; (4^2)\n",
      "exp(1)=2,71828;\n",
      "log(4)=1,38629; (натуральный логарифм числа по основанию экспоненты)\n",
      "log10(4)=0,60206; (десятичный логарифм числа по основанию экспоненты)\n"
     ]
    }
   ],
   "source": [
    "%%Cpp\n",
    "#include <stdio.h>\n",
    "#include <locale.h>\n",
    "#include <math.h>\n",
    "int main(){\n",
    "\tsetlocale(LC_ALL, \"Russian\");float a=0;\n",
    "\ta=-1.4;printf(\"fabs(%lg)=%lg;\\n\",a,fabs(a));\n",
    "\ta=4;printf(\"sqrt(%lg)=%lg;\\n\",a,sqrt(a));\n",
    "\ta=M_PI;printf(\"M_PI=%lg;\\n\",a);\n",
    "\ta=M_PI;printf(\"sin(%lg)=%lg; (В радианах)\\n\",a,sin(a));\n",
    "\ta=M_PI;printf(\"cos(%lg)=%lg; (В радианах)\\n\",a,cos(a));\n",
    "\ta=4;printf(\"pow(%lg, 2)=%lg; (4^2)\\n\",a,pow(a, 2));\n",
    "\ta=1;printf(\"exp(%lg)=%lg;\\n\",a,exp(a));\n",
    "\ta=4;printf(\"log(%lg)=%lg; (натуральный логарифм числа по основанию экспоненты)\\n\",a,log(a));\n",
    "\ta=4;printf(\"log10(%lg)=%lg; (десятичный логарифм числа по основанию экспоненты)\\n\",a,log10(a));\n",
    "    int res = 0;res=getchar();\n",
    "\treturn 0;\n",
    "}"
   ]
  },
  {
   "cell_type": "markdown",
   "id": "9d26cd53",
   "metadata": {},
   "source": [
    "# Директивы партии препроцессоров\n",
    "https://prog-cpp.ru/c-directives/\n",
    "\n"
   ]
  },
  {
   "cell_type": "markdown",
   "id": "f531720d",
   "metadata": {},
   "source": [
    "- #include - включение в текст программы указанного файла... Уже использовали...\n",
    "- $#include <stdio.h>$ -  Если заголовочный файл содержит описание библиотечных функций и находится в папке компилятора, он заключается в угловые скобки\n",
    "- $#include \"func.c\"$ - Если файл находится в текущем каталоге проекта, он указывается в кавычках\n",
    "<br/><br/>\n",
    "-  #define - директика времени компиляции. Позволяет в тексте, посланном на компиляцию заменять имя директивы на её содержимое."
   ]
  },
  {
   "cell_type": "code",
   "execution_count": 3,
   "id": "2efa1ffa",
   "metadata": {},
   "outputs": [
    {
     "name": "stdout",
     "output_type": "stream",
     "text": [
      "M_PI=3,14159;\n",
      "M_EXP=2,71828;\n"
     ]
    }
   ],
   "source": [
    "%%Cpp\n",
    "#include <stdio.h>\n",
    "#include <locale.h>\n",
    "#include <math.h>\n",
    "#define M_EXP 2.71828\n",
    "int main(){\n",
    "\tsetlocale(LC_ALL, \"Russian\");\n",
    "\tprintf(\"M_PI=%lg;\\n\",M_PI);\n",
    "\tprintf(\"M_EXP=%lg;\\n\",M_EXP);\n",
    "\tint res = 0;res=getchar();\n",
    "\treturn 0;\n",
    "}"
   ]
  },
  {
   "cell_type": "code",
   "execution_count": 5,
   "id": "29278e56",
   "metadata": {},
   "outputs": [
    {
     "name": "stdout",
     "output_type": "stream",
     "text": [
      " a = 3\n",
      " b = 5\n",
      " c = 16 \n",
      " d = 13 \n"
     ]
    }
   ],
   "source": [
    "%%Cpp\n",
    "#include <stdio.h>\n",
    "//Макрос с параметром, аналог функции\n",
    "#define sum(A,B) A+B\n",
    "int main()\n",
    "{\n",
    "  int a, b, c, d;\n",
    "  a = 3; b = 5;\n",
    "  c = (a + b) * 2; // c = (a + b)*2\n",
    "  d = sum(a, b) * 2; // d = a + b*2;\n",
    "  printf(\" a = %d\\n b = %d\\n\", a, b);\n",
    "  printf(\" c = %d \\n d = %d \\n\", c, d);\n",
    "  getchar();\n",
    "  return 0;\n",
    "}"
   ]
  },
  {
   "cell_type": "code",
   "execution_count": 7,
   "id": "1f4310db",
   "metadata": {},
   "outputs": [
    {
     "name": "stdout",
     "output_type": "stream",
     "text": [
      " a = 3\n",
      " b = 5\n",
      " c = 16 \n",
      " d = 13 \n"
     ]
    }
   ],
   "source": [
    "%%Cpp\n",
    "#include <stdio.h>\n",
    "//Многострочные макросы - это очень важно\n",
    "#define sum(A,B) A + \\\n",
    "                 B\n",
    "int main()\n",
    "{\n",
    "  int a, b, c, d;\n",
    "  a = 3; b = 5;\n",
    "  c = (a + b) * 2; // c = (a + b)*2\n",
    "  d = sum(a, b) * 2; // d = a + b*2;\n",
    "  printf(\" a = %d\\n b = %d\\n\", a, b);\n",
    "  printf(\" c = %d \\n d = %d \\n\", c, d);\n",
    "  getchar();\n",
    "  return 0;\n",
    "}"
   ]
  },
  {
   "cell_type": "code",
   "execution_count": 9,
   "id": "f0770a9f",
   "metadata": {},
   "outputs": [
    {
     "name": "stdout",
     "output_type": "stream",
     "text": [
      "8\n"
     ]
    }
   ],
   "source": [
    "%%Cpp\n",
    "#include <stdio.h>\n",
    "//Шаблонизация макросом// По идее мы подставилине переменную а число\n",
    "#define SUM(x,y) (a##x + a##y)\n",
    "int main()\n",
    "{\n",
    "  int a1 = 5, a2 = 3;\n",
    "  printf(\"%d\", SUM(1, 2)); // (a1 + a2)\n",
    "  getchar();\n",
    "  return 0;\n",
    "}"
   ]
  },
  {
   "cell_type": "markdown",
   "id": "345636a1",
   "metadata": {},
   "source": [
    "# инкремент декремент"
   ]
  },
  {
   "cell_type": "markdown",
   "id": "6dffc531",
   "metadata": {},
   "source": [
    "# Сравнения и ветвления"
   ]
  },
  {
   "cell_type": "markdown",
   "id": "18492db0",
   "metadata": {},
   "source": [
    "# Ветвления"
   ]
  },
  {
   "cell_type": "markdown",
   "id": "afa4a7a3",
   "metadata": {},
   "source": [
    "# Циклы с пред условием"
   ]
  },
  {
   "cell_type": "markdown",
   "id": "b79c9b60",
   "metadata": {},
   "source": [
    "# Цыклы с пост условием"
   ]
  },
  {
   "cell_type": "markdown",
   "id": "a9f721bd",
   "metadata": {},
   "source": [
    "# Цикл Фор"
   ]
  },
  {
   "cell_type": "markdown",
   "id": "d49f2702",
   "metadata": {},
   "source": [
    "# Цикл  фориечц"
   ]
  },
  {
   "attachments": {
    "image.png": {
     "image/png": "[encoded data removed]"
    }
   },
   "cell_type": "markdown",
   "id": "c6c6f15f",
   "metadata": {},
   "source": [
    "![image.png](attachment:image.png)"
   ]
  },
  {
   "attachments": {
    "image.png": {
     "image/png": "[encoded data removed]"
    }
   },
   "cell_type": "markdown",
   "id": "a848c564",
   "metadata": {},
   "source": [
    "![image.png](attachment:image.png)"
   ]
  },
  {
   "cell_type": "markdown",
   "id": "52ea34d0",
   "metadata": {},
   "source": [
    "# Работа с памятью"
   ]
  },
  {
   "cell_type": "markdown",
   "id": "dc366562",
   "metadata": {},
   "source": [
    "# Всем Си\n"
   ]
  },
  {
   "cell_type": "code",
   "execution_count": null,
   "id": "b61ebd57",
   "metadata": {},
   "outputs": [],
   "source": []
  }
 ],
 "metadata": {
  "kernelspec": {
   "display_name": "Python 3 (ipykernel)",
   "language": "python",
   "name": "python3"
  },
  "language_info": {
   "codemirror_mode": {
    "name": "ipython",
    "version": 3
   },
   "file_extension": ".py",
   "mimetype": "text/x-python",
   "name": "python",
   "nbconvert_exporter": "python",
   "pygments_lexer": "ipython3",
   "version": "3.11.4"
  }
 },
 "nbformat": 4,
 "nbformat_minor": 5
}
