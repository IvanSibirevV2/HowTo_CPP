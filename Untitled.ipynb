{
 "cells": [
  {
   "cell_type": "markdown",
   "id": "cf8008d9",
   "metadata": {},
   "source": [
    "https://ipython.readthedocs.io/en/stable/interactive/magics.html\n",
    "\n",
    "https://coderzcolumn.com/tutorials/python/list-of-useful-magic-commands-in-jupyter-notebook-lab"
   ]
  },
  {
   "cell_type": "markdown",
   "id": "9d7da387",
   "metadata": {},
   "source": [
    "----------------\n"
   ]
  },
  {
   "attachments": {
    "image.png": {
     "image/png": "[encoded data removed]"
    }
   },
   "cell_type": "markdown",
   "id": "8859c009",
   "metadata": {},
   "source": [
    "https://habr.com/ru/companies/wunderfund/articles/316826/\n",
    "![image.png](attachment:image.png)"
   ]
  },
  {
   "cell_type": "markdown",
   "id": "ffdc956a",
   "metadata": {},
   "source": [
    "-----------------"
   ]
  },
  {
   "cell_type": "code",
   "execution_count": 13,
   "id": "044bab6d",
   "metadata": {},
   "outputs": [
    {
     "name": "stdout",
     "output_type": "stream",
     "text": [
      "Overwriting main.c\n"
     ]
    }
   ],
   "source": [
    "%%writefile main.c\n",
    "#include <stdio.h>\n",
    "\n",
    "int main(int argc, char *argv[])\n",
    "{\n",
    "\tprintf(\"Hello C-Free!\\n\");\n",
    "\tint a = 2;\n",
    "\tprintf(\"a = %d\\n\", a);\n",
    "\treturn 0;\n",
    "}"
   ]
  },
  {
   "cell_type": "code",
   "execution_count": 14,
   "id": "e475999f",
   "metadata": {
    "scrolled": true
   },
   "outputs": [
    {
     "name": "stdout",
     "output_type": "stream",
     "text": [
      "C:\\Users\\SibNout2023\\WorkPlate\n",
      "Hello C-Free!\n",
      "a = 2\n"
     ]
    }
   ],
   "source": [
    "!echo %cd%\n",
    "!\"C:\\Program Files (x86)\\C-Free 5\\mingw\\bin\\\\c++.exe\" main.c -o Start.exe\n",
    "!Start.exe"
   ]
  },
  {
   "cell_type": "markdown",
   "id": "de6523c9",
   "metadata": {},
   "source": [
    "-------------"
   ]
  },
  {
   "attachments": {
    "image.png": {
     "image/png": "[encoded data removed]"
    }
   },
   "cell_type": "markdown",
   "id": "947d5b52",
   "metadata": {},
   "source": [
    "https://ipython.org/ipython-doc/3/interactive/magics.html\n",
    "![image.png](attachment:image.png)"
   ]
  },
  {
   "cell_type": "code",
   "execution_count": 17,
   "id": "928c88e8",
   "metadata": {},
   "outputs": [
    {
     "name": "stderr",
     "output_type": "stream",
     "text": [
      "UsageError: Line magic function `%print` not found.\n"
     ]
    }
   ],
   "source": [
    "%alias_magic --line qwerty print"
   ]
  },
  {
   "cell_type": "code",
   "execution_count": 6,
   "id": "8eeec886",
   "metadata": {},
   "outputs": [],
   "source": [
    "from IPython.core.magic import register_line_magic\n",
    "@register_line_magic\n",
    "def lDebag(line):\n",
    "    with open('main.c', mode='w') as file:file.write(line)\n",
    "    !echo %cd%\n",
    "    !\"C:\\Program Files (x86)\\C-Free 5\\mingw\\bin\\\\c++.exe\" main.c -o Start.exe\n",
    "    !Start.exe\n",
    "    return line"
   ]
  },
  {
   "cell_type": "code",
   "execution_count": 9,
   "id": "b358395d",
   "metadata": {},
   "outputs": [],
   "source": [
    "from IPython.core.magic import (register_cell_magic)\n",
    "@register_cell_magic\n",
    "def cDebag(line,cell):\n",
    "    with open('main.c', mode='w') as file:file.write(cell)\n",
    "    !echo %cd%\n",
    "    !\"C:\\Program Files (x86)\\C-Free 5\\mingw\\bin\\\\c++.exe\" main.c -o Start.exe\n",
    "    !Start.exe\n",
    "    return line, cell"
   ]
  },
  {
   "cell_type": "code",
   "execution_count": 10,
   "id": "6950a857",
   "metadata": {},
   "outputs": [
    {
     "name": "stdout",
     "output_type": "stream",
     "text": [
      "C:\\Users\\SibNout2023\\WorkPlate\n",
      "Hello C-Free!\n",
      "a = 2\n"
     ]
    },
    {
     "data": {
      "text/plain": [
       "('',\n",
       " '#include <stdio.h>\\nint main(int argc, char *argv[])\\n{\\n\\tprintf(\"Hello C-Free!\\\\n\");\\n\\tint a = 2;\\n\\tprintf(\"a = %d\\\\n\", a);\\n\\treturn 0;\\n}\\n')"
      ]
     },
     "execution_count": 10,
     "metadata": {},
     "output_type": "execute_result"
    }
   ],
   "source": [
    "%%cDebag\n",
    "#include <stdio.h>\n",
    "int main(int argc, char *argv[])\n",
    "{\n",
    "\tprintf(\"Hello C-Free!\\n\");\n",
    "\tint a = 2;\n",
    "\tprintf(\"a = %d\\n\", a);\n",
    "\treturn 0;\n",
    "}"
   ]
  },
  {
   "cell_type": "code",
   "execution_count": 2,
   "id": "55ca0195",
   "metadata": {},
   "outputs": [
    {
     "name": "stdout",
     "output_type": "stream",
     "text": [
      "C:\\Users\\SibNout2023\\WorkPlate\n",
      "Hello C-Free!\n",
      "a = 2\n"
     ]
    }
   ],
   "source": [
    "MyDebag(\"\"\"#include <stdio.h>\n",
    "int main(int argc, char *argv[])\n",
    "{\n",
    "\tprintf(\"Hello C-Free!\\\\n\");\n",
    "\tint a = 2;\n",
    "\tprintf(\"a = %d\\\\n\", a);\n",
    "\treturn 0;\n",
    "}\n",
    "\"\"\"\n",
    ")"
   ]
  },
  {
   "cell_type": "code",
   "execution_count": 15,
   "id": "ad6bb784",
   "metadata": {},
   "outputs": [],
   "source": [
    "submission_ending = '''    model = Net()\n",
    "    model = model.float()\n",
    "    model.load_state_dict(state_dict)\n",
    "    model = model.to('cpu')\n",
    "    model = model.eval()\n",
    "    obs = tensor(obs['board']).reshape(1, 1, config.rows, config.columns).float()\n",
    "    obs = obs / 2\n",
    "    action = model(obs)\n",
    "    return int(action)'''\n",
    "\n",
    "with open('submission.py', mode='a') as file:\n",
    "    file.write(submission_ending)"
   ]
  }
 ],
 "metadata": {
  "kernelspec": {
   "display_name": "Python 3 (ipykernel)",
   "language": "python",
   "name": "python3"
  },
  "language_info": {
   "codemirror_mode": {
    "name": "ipython",
    "version": 3
   },
   "file_extension": ".py",
   "mimetype": "text/x-python",
   "name": "python",
   "nbconvert_exporter": "python",
   "pygments_lexer": "ipython3",
   "version": "3.11.4"
  }
 },
 "nbformat": 4,
 "nbformat_minor": 5
}
